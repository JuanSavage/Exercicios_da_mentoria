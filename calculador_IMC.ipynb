{
 "cells": [
  {
   "cell_type": "code",
   "execution_count": 10,
   "metadata": {},
   "outputs": [
    {
     "name": "stdout",
     "output_type": "stream",
     "text": [
      "Seu IMC é: 0.00245\n",
      "Você está com peso normal.\n"
     ]
    }
   ],
   "source": [
    "#calculo do IMC / vindo do usuario.\n",
    "\n",
    "peso = float(input(\"Qual o seu peso ?\"))\n",
    "\n",
    "altura = float(input(\"qual a sua altura ?\"))\n",
    "\n",
    "imc = peso / altura ** 2\n",
    "\n",
    "print(\"Seu IMC é:\", imc)\n",
    "\n",
    "#interpretaçoes do IMC\n",
    "\n",
    "\n",
    "if imc < 0.00185:\n",
    "    print(\"Você está abaixo do peso.\")\n",
    "elif 0.00185 <= imc < 0.0025:\n",
    "    print(\"Você está com peso normal.\")\n",
    "elif 0.0025 <= imc < 0.0030:\n",
    "    print(\"Você está acima do peso.\")\n",
    "elif 0.0030 <= imc < 0.0035:\n",
    "    print(\"Você está em Obesidade I.\")\n",
    "elif 0.0035 <= imc < 0.0040:\n",
    "    print(\"Você está em Obesidade II (severa).\")\n",
    "else:\n",
    "    print(\"Você está em Obesidade III (mórbida).\")\n"
   ]
  }
 ],
 "metadata": {
  "kernelspec": {
   "display_name": "Python 3",
   "language": "python",
   "name": "python3"
  },
  "language_info": {
   "codemirror_mode": {
    "name": "ipython",
    "version": 3
   },
   "file_extension": ".py",
   "mimetype": "text/x-python",
   "name": "python",
   "nbconvert_exporter": "python",
   "pygments_lexer": "ipython3",
   "version": "3.11.6"
  }
 },
 "nbformat": 4,
 "nbformat_minor": 2
}
