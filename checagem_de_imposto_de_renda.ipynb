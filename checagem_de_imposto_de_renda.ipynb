#entrada do valor para calculo de condicoes.

salario = int(input("qual o seu salario ?"))

#condicoes:

if salario <1900:
    print(f"vc e insento de pagar o imposto de renda!!!")

if salario >= 1900 and salario <2826:
    print(f"vc deve pagar 7.5% do seu salario!!")

if salario >= 2826 and salario < 3750:
    print(f"vc deve pagar 15% do seu salario!!")

if salario >= 3750:
    print(f"vc deve pagar 22.5% do seu salario!!")
