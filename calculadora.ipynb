#selecao da operaçao:
    
selecao = int(input("Dgite (1) para adicao (2) para subtraçao (3) para multiplicacao (4) para divisão"))

#numerais para operacao:

numeral1 = int(input("Digite o primeiro numero a ser utilizado")) 
numeral2 = int(input("Digite o segundo numero a ser utilizado")) 

#Sugestoes para calculo:

if selecao == 1:
    adc = numeral1 + numeral2
    print (f"O resultado da adição é {adc}")
 
elif selecao == 2:
    sub = numeral1 - numeral2
    print(f"O resultado da subtração é {sub}")

elif selecao == 3:
    multi = numeral1 * numeral2
    print(f"O resultado da multiplicação é {multi}")

elif selecao == 4:
    div = numeral1 / numeral2
    print(f"O resultado do resto modular é {div}")
else:
    selecao = int(input("Digite somente do 1 ao 4: "))
